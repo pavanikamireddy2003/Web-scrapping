{
 "cells": [
  {
   "cell_type": "code",
   "execution_count": 1,
   "id": "ab35ddfb",
   "metadata": {},
   "outputs": [],
   "source": [
    "#importing libraries\n",
    "import pandas as pd\n",
    "from bs4 import BeautifulSoup\n",
    "import requests\n",
    "import numpy as np\n"
   ]
  },
  {
   "cell_type": "code",
   "execution_count": 2,
   "id": "82d489bb",
   "metadata": {},
   "outputs": [],
   "source": [
    "# requesting to allow scrapping\n",
    "url=\"https://www.flipkart.com/search?q=mobiles+under+50000&otracker=search&otracker1=search&marketplace=FLIPKART&as-show=on&as=off&page=1\"\n",
    "r=requests.get(url)\n",
    "soup=BeautifulSoup(r.text,\"lxml\")\n",
    "box=soup.find(\"div\",class_=\"_1YokD2 _3Mn1Gg\" )\n",
    "    \n",
    "    "
   ]
  },
  {
   "cell_type": "code",
   "execution_count": 3,
   "id": "b7beff6a",
   "metadata": {},
   "outputs": [],
   "source": [
    "# variable declaration\n",
    "product_name=[]\n",
    "prices=[]\n",
    "description=[]\n",
    "ratings=[]"
   ]
  },
  {
   "cell_type": "code",
   "execution_count": 4,
   "id": "1fe1466e",
   "metadata": {},
   "outputs": [
    {
     "name": "stdout",
     "output_type": "stream",
     "text": [
      "[<div class=\"_4rR01T\">SAMSUNG Galaxy Z Flip3 5G (Cream, 128 GB)</div>, <div class=\"_4rR01T\">Google Pixel 7 (Lemongrass, 128 GB)</div>, <div class=\"_4rR01T\">Google Pixel 7 (Obsidian, 128 GB)</div>, <div class=\"_4rR01T\">Google Pixel 7 (Snow, 128 GB)</div>, <div class=\"_4rR01T\">OnePlus 11R 5G (Sonic Black, 256 GB)</div>, <div class=\"_4rR01T\">Apple iPhone 11 (White, 128 GB)</div>, <div class=\"_4rR01T\">SAMSUNG Galaxy Z Flip3 5G (Phantom Black, 128 GB)</div>, <div class=\"_4rR01T\">OnePlus 10 Pro 5G (Emerald Forest, 128 GB)</div>, <div class=\"_4rR01T\">Apple iPhone 11 (Purple, 128 GB)</div>, <div class=\"_4rR01T\">vivo V29 Pro 5G (Black, 256 GB)</div>, <div class=\"_4rR01T\">SAMSUNG Galaxy A54 5G (Awesome Lime, 256 GB)</div>, <div class=\"_4rR01T\">OnePlus 12R (Cool Blue, 256 GB)</div>, <div class=\"_4rR01T\">OnePlus 10 Pro 5G (Emerald Forest, 128 GB)</div>, <div class=\"_4rR01T\">Apple iPhone 11 (Green, 128 GB)</div>, <div class=\"_4rR01T\">Apple iPhone 11 (Black, 128 GB)</div>, <div class=\"_4rR01T\">OnePlus 10 Pro 5G (Volcanic Black, 128 GB)</div>, <div class=\"_4rR01T\">vivo X90 (Asteroid Black, 256 GB)</div>, <div class=\"_4rR01T\">vivo X90 (Breeze Blue, 256 GB)</div>, <div class=\"_4rR01T\">Apple iPhone XR (White, 64 GB) (Includes EarPods, Power Adapter)</div>, <div class=\"_4rR01T\">OPPO Reno10 Pro+ 5G (Glossy Purple, 256 GB)</div>, <div class=\"_4rR01T\">Apple iPhone 11 (Yellow, 128 GB)</div>, <div class=\"_4rR01T\">Apple iPhone 6 Plus (Silver, 64 GB)</div>, <div class=\"_4rR01T\">OPPO Reno10 Pro+ 5G (Silvery Grey, 256 GB)</div>, <div class=\"_4rR01T\">OnePlus 10 Pro 5G (Volcanic Black, 128 GB)</div>]\n"
     ]
    }
   ],
   "source": [
    "names=box.find_all(\"div\",class_=\"_4rR01T\")\n",
    "print(names)"
   ]
  },
  {
   "cell_type": "code",
   "execution_count": 5,
   "id": "dc333f9a",
   "metadata": {},
   "outputs": [],
   "source": [
    "# list containing product names\n",
    "for i in names:\n",
    "    name=i.text\n",
    "    product_name.append(name)"
   ]
  },
  {
   "cell_type": "code",
   "execution_count": 6,
   "id": "360a056b",
   "metadata": {},
   "outputs": [],
   "source": [
    "price=box.find_all(\"div\",class_=\"_30jeq3 _1_WHN1\")\n"
   ]
  },
  {
   "cell_type": "code",
   "execution_count": 7,
   "id": "3d1d66f5",
   "metadata": {},
   "outputs": [],
   "source": [
    "# list containing mobile prices\n",
    "for i in price:\n",
    "    name=i.text\n",
    "    prices.append(name)"
   ]
  },
  {
   "cell_type": "code",
   "execution_count": 8,
   "id": "fd23ee41",
   "metadata": {},
   "outputs": [],
   "source": [
    "desc=box.find_all(\"ul\",class_=\"_1xgFaf\")"
   ]
  },
  {
   "cell_type": "code",
   "execution_count": 9,
   "id": "a5c88493",
   "metadata": {},
   "outputs": [],
   "source": [
    "# list containing mobile decription\n",
    "for i in desc:\n",
    "    name=i.text\n",
    "    description.append(name)"
   ]
  },
  {
   "cell_type": "code",
   "execution_count": 10,
   "id": "7ab860d6",
   "metadata": {},
   "outputs": [],
   "source": [
    "rate=box.find_all(\"div\",class_=\"_3LWZlK\")"
   ]
  },
  {
   "cell_type": "code",
   "execution_count": 11,
   "id": "8d85523e",
   "metadata": {},
   "outputs": [],
   "source": [
    "# list of ratings\n",
    "for i in rate:\n",
    "    name=i.text\n",
    "    ratings.append(name)"
   ]
  },
  {
   "cell_type": "code",
   "execution_count": 12,
   "id": "c394820a",
   "metadata": {
    "scrolled": true
   },
   "outputs": [
    {
     "name": "stdout",
     "output_type": "stream",
     "text": [
      "                                         product Name   prices  \\\n",
      "0           SAMSUNG Galaxy Z Flip3 5G (Cream, 128 GB)  ₹45,999   \n",
      "1                 Google Pixel 7 (Lemongrass, 128 GB)  ₹46,999   \n",
      "2                   Google Pixel 7 (Obsidian, 128 GB)  ₹46,999   \n",
      "3                       Google Pixel 7 (Snow, 128 GB)  ₹46,999   \n",
      "4                OnePlus 11R 5G (Sonic Black, 256 GB)  ₹41,649   \n",
      "5                     Apple iPhone 11 (White, 128 GB)  ₹48,900   \n",
      "6   SAMSUNG Galaxy Z Flip3 5G (Phantom Black, 128 GB)  ₹45,999   \n",
      "7          OnePlus 10 Pro 5G (Emerald Forest, 128 GB)  ₹44,497   \n",
      "8                    Apple iPhone 11 (Purple, 128 GB)  ₹48,900   \n",
      "9                     vivo V29 Pro 5G (Black, 256 GB)  ₹42,999   \n",
      "10       SAMSUNG Galaxy A54 5G (Awesome Lime, 256 GB)  ₹37,499   \n",
      "11                    OnePlus 12R (Cool Blue, 256 GB)  ₹45,995   \n",
      "12         OnePlus 10 Pro 5G (Emerald Forest, 128 GB)  ₹44,949   \n",
      "13                    Apple iPhone 11 (Green, 128 GB)  ₹48,900   \n",
      "14                    Apple iPhone 11 (Black, 128 GB)  ₹48,900   \n",
      "15         OnePlus 10 Pro 5G (Volcanic Black, 128 GB)  ₹44,985   \n",
      "16                  vivo X90 (Asteroid Black, 256 GB)  ₹48,777   \n",
      "17                     vivo X90 (Breeze Blue, 256 GB)  ₹49,999   \n",
      "18  Apple iPhone XR (White, 64 GB) (Includes EarPo...  ₹47,900   \n",
      "19        OPPO Reno10 Pro+ 5G (Glossy Purple, 256 GB)  ₹54,999   \n",
      "20                   Apple iPhone 11 (Yellow, 128 GB)  ₹48,900   \n",
      "21                Apple iPhone 6 Plus (Silver, 64 GB)  ₹48,999   \n",
      "22         OPPO Reno10 Pro+ 5G (Silvery Grey, 256 GB)  ₹54,999   \n",
      "23         OnePlus 10 Pro 5G (Volcanic Black, 128 GB)  ₹43,990   \n",
      "\n",
      "                                           descriptio ratings  \n",
      "0   8 GB RAM | 128 GB ROM17.02 cm (6.7 inch) Full ...     4.3  \n",
      "1   8 GB RAM | 128 GB ROM16.0 cm (6.3 inch) Full H...     4.3  \n",
      "2   8 GB RAM | 128 GB ROM16.0 cm (6.3 inch) Full H...     4.3  \n",
      "3   8 GB RAM | 128 GB ROM16.0 cm (6.3 inch) Full H...     4.3  \n",
      "4   16 GB RAM | 256 GB ROM17.02 cm (6.7 inch) Disp...     4.5  \n",
      "5   128 GB ROM15.49 cm (6.1 inch) Liquid Retina HD...     4.6  \n",
      "6   8 GB RAM | 128 GB ROM17.02 cm (6.7 inch) Full ...     4.3  \n",
      "7   8 GB RAM | 128 GB ROM17.02 cm (6.7 inch) Displ...     4.2  \n",
      "8   128 GB ROM15.49 cm (6.1 inch) Liquid Retina HD...     4.6  \n",
      "9   12 GB RAM | 256 GB ROM17.22 cm (6.78 inch) Ful...     4.5  \n",
      "10  8 GB RAM | 256 GB ROM | Expandable Upto 1 TB16...     4.2  \n",
      "11  16 GB RAM | 256 GB ROM17.22 cm (6.78 inch) Dis...     4.3  \n",
      "12  8 GB RAM | 128 GB ROM17.02 cm (6.7 inch) Displ...     4.2  \n",
      "13  128 GB ROM15.49 cm (6.1 inch) Liquid Retina HD...     4.6  \n",
      "14  128 GB ROM15.49 cm (6.1 inch) Liquid Retina HD...     4.6  \n",
      "15  8 GB RAM | 128 GB ROM17.02 cm (6.7 inch) Displ...     4.2  \n",
      "16  8 GB RAM | 256 GB ROM17.22 cm (6.78 inch) Full...     4.4  \n",
      "17  12 GB RAM | 256 GB ROM17.22 cm (6.78 inch) Ful...     4.3  \n",
      "18  64 GB ROM15.49 cm (6.1 inch) Display12MP Rear ...     4.6  \n",
      "19  12 GB RAM | 256 GB ROM17.12 cm (6.74 inch) Ful...     4.5  \n",
      "20  128 GB ROM15.49 cm (6.1 inch) Liquid Retina HD...     4.6  \n",
      "21  64 GB ROM13.97 cm (5.5 inch) Retina HD Display...     4.5  \n",
      "22  12 GB RAM | 256 GB ROM17.12 cm (6.74 inch) Ful...     4.5  \n",
      "23  8 GB RAM | 128 GB ROM17.02 cm (6.7 inch) Displ...     4.2  \n"
     ]
    }
   ],
   "source": [
    "# creating a dataframe\n",
    "df=pd.DataFrame({\"product Name\":product_name,\"prices\":prices,\"descriptio\":description,\"ratings\":ratings})\n",
    "print(df)"
   ]
  },
  {
   "cell_type": "code",
   "execution_count": 13,
   "id": "96f2edd7",
   "metadata": {},
   "outputs": [],
   "source": [
    "# storing data into an excel file\n",
    "df.to_csv(\"C:/Users/chand/OneDrive/Desktop/mobiles under 50000.csv\")\n"
   ]
  },
  {
   "cell_type": "code",
   "execution_count": null,
   "id": "ec322bc0",
   "metadata": {},
   "outputs": [],
   "source": []
  }
 ],
 "metadata": {
  "kernelspec": {
   "display_name": "Python 3 (ipykernel)",
   "language": "python",
   "name": "python3"
  },
  "language_info": {
   "codemirror_mode": {
    "name": "ipython",
    "version": 3
   },
   "file_extension": ".py",
   "mimetype": "text/x-python",
   "name": "python",
   "nbconvert_exporter": "python",
   "pygments_lexer": "ipython3",
   "version": "3.11.5"
  }
 },
 "nbformat": 4,
 "nbformat_minor": 5
}
